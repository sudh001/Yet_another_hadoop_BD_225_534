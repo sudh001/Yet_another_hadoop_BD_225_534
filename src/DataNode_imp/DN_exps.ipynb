{
 "cells": [
  {
   "cell_type": "code",
   "execution_count": 1,
   "id": "135d643f",
   "metadata": {},
   "outputs": [],
   "source": [
    "import DataNode as dn\n",
    "import Support as su\n",
    "import os"
   ]
  },
  {
   "cell_type": "markdown",
   "id": "56c501b6",
   "metadata": {},
   "source": [
    "## Initialization of data node"
   ]
  },
  {
   "cell_type": "code",
   "execution_count": 2,
   "id": "5839b4ee",
   "metadata": {},
   "outputs": [
    {
     "name": "stdout",
     "output_type": "stream",
     "text": [
      "[' alloc.txt', ' attr.pkl', ' strg.txt']\n"
     ]
    }
   ],
   "source": [
    "dn_dir = 'DataNodes/dn_1'\n",
    "dn_log_path = 'DataNodes/dn_logs'\n",
    "print(os.listdir(dn_dir))\n",
    "attr = su.DN_attr(dn_dir,10,10,1,dn_log_path)"
   ]
  },
  {
   "cell_type": "code",
   "execution_count": 3,
   "id": "0ae9cdbe",
   "metadata": {},
   "outputs": [
    {
     "name": "stdout",
     "output_type": "stream",
     "text": [
      "\n",
      "Poor attributes for datanode construction\n"
     ]
    }
   ],
   "source": [
    "n1a = dn.DataNode(attr,isNew = True)"
   ]
  },
  {
   "cell_type": "code",
   "execution_count": 4,
   "id": "0d56e085",
   "metadata": {},
   "outputs": [],
   "source": [
    "n1L = dn.DataNode(attr)"
   ]
  },
  {
   "cell_type": "code",
   "execution_count": 5,
   "id": "2d41f9d3",
   "metadata": {},
   "outputs": [],
   "source": [
    "attr1 = su.DN_attr(dn_dir,10,10,1,dn_log_path)"
   ]
  },
  {
   "cell_type": "code",
   "execution_count": 6,
   "id": "ce8263e4",
   "metadata": {},
   "outputs": [
    {
     "data": {
      "text/plain": [
       "True"
      ]
     },
     "execution_count": 6,
     "metadata": {},
     "output_type": "execute_result"
    }
   ],
   "source": [
    "attr1.is_same(attr)"
   ]
  },
  {
   "cell_type": "code",
   "execution_count": 7,
   "id": "f4488504",
   "metadata": {},
   "outputs": [
    {
     "data": {
      "text/plain": [
       "True"
      ]
     },
     "execution_count": 7,
     "metadata": {},
     "output_type": "execute_result"
    }
   ],
   "source": [
    " n1L.attr.is_same(attr)"
   ]
  },
  {
   "cell_type": "markdown",
   "id": "2e228df3",
   "metadata": {},
   "source": [
    "## Testing read_blk "
   ]
  },
  {
   "cell_type": "code",
   "execution_count": 8,
   "id": "6fa1a950",
   "metadata": {},
   "outputs": [
    {
     "name": "stdout",
     "output_type": "stream",
     "text": [
      "\n",
      "poor access request\n"
     ]
    },
    {
     "data": {
      "text/plain": [
       "1"
      ]
     },
     "execution_count": 8,
     "metadata": {},
     "output_type": "execute_result"
    }
   ],
   "source": [
    "n1L.read_blk(11) # -ve case"
   ]
  },
  {
   "cell_type": "code",
   "execution_count": 9,
   "id": "5bd30eae",
   "metadata": {},
   "outputs": [
    {
     "name": "stdout",
     "output_type": "stream",
     "text": [
      "\n",
      "poor access request\n"
     ]
    },
    {
     "data": {
      "text/plain": [
       "1"
      ]
     },
     "execution_count": 9,
     "metadata": {},
     "output_type": "execute_result"
    }
   ],
   "source": [
    "n1L.read_blk(9) # -ve case"
   ]
  },
  {
   "cell_type": "markdown",
   "id": "ea86824a",
   "metadata": {},
   "source": [
    "## Testing alloc_blk"
   ]
  },
  {
   "cell_type": "code",
   "execution_count": 10,
   "id": "38e3509e",
   "metadata": {},
   "outputs": [],
   "source": [
    "content = '000pqrs000'"
   ]
  },
  {
   "cell_type": "code",
   "execution_count": 11,
   "id": "52ce472b",
   "metadata": {},
   "outputs": [
    {
     "data": {
      "text/plain": [
       "0"
      ]
     },
     "execution_count": 11,
     "metadata": {},
     "output_type": "execute_result"
    }
   ],
   "source": [
    "n1L.alloc_blk('my_chumma_file',content) # +ve case"
   ]
  },
  {
   "cell_type": "code",
   "execution_count": 12,
   "id": "a4242112",
   "metadata": {},
   "outputs": [],
   "source": [
    "contentF = '000pqrs00'"
   ]
  },
  {
   "cell_type": "code",
   "execution_count": 13,
   "id": "83f79a0b",
   "metadata": {},
   "outputs": [
    {
     "name": "stdout",
     "output_type": "stream",
     "text": [
      "Poor content\n"
     ]
    },
    {
     "data": {
      "text/plain": [
       "1"
      ]
     },
     "execution_count": 13,
     "metadata": {},
     "output_type": "execute_result"
    }
   ],
   "source": [
    "n1L.alloc_blk('my_chumma_file',contentF) # -ve case"
   ]
  },
  {
   "cell_type": "code",
   "execution_count": 15,
   "id": "832bfb86",
   "metadata": {},
   "outputs": [
    {
     "data": {
      "text/plain": [
       "'000pqrs000'"
      ]
     },
     "execution_count": 15,
     "metadata": {},
     "output_type": "execute_result"
    }
   ],
   "source": [
    "n1L.read_blk(0)"
   ]
  },
  {
   "cell_type": "markdown",
   "id": "33e908e8",
   "metadata": {},
   "source": [
    "## Testing free_blks"
   ]
  },
  {
   "cell_type": "code",
   "execution_count": 16,
   "id": "e11c9483",
   "metadata": {},
   "outputs": [],
   "source": [
    "n1L.free_blks('my_chumma_file')"
   ]
  },
  {
   "cell_type": "code",
   "execution_count": 17,
   "id": "277521e5",
   "metadata": {},
   "outputs": [
    {
     "name": "stdout",
     "output_type": "stream",
     "text": [
      "\n",
      "poor access request\n"
     ]
    },
    {
     "data": {
      "text/plain": [
       "1"
      ]
     },
     "execution_count": 17,
     "metadata": {},
     "output_type": "execute_result"
    }
   ],
   "source": [
    "n1L.read_blk(0)"
   ]
  },
  {
   "cell_type": "code",
   "execution_count": null,
   "id": "61a4491a",
   "metadata": {},
   "outputs": [],
   "source": []
  }
 ],
 "metadata": {
  "kernelspec": {
   "display_name": "Python 3",
   "language": "python",
   "name": "python3"
  },
  "language_info": {
   "codemirror_mode": {
    "name": "ipython",
    "version": 3
   },
   "file_extension": ".py",
   "mimetype": "text/x-python",
   "name": "python",
   "nbconvert_exporter": "python",
   "pygments_lexer": "ipython3",
   "version": "3.8.8"
  }
 },
 "nbformat": 4,
 "nbformat_minor": 5
}
