{
 "cells": [
  {
   "cell_type": "code",
   "execution_count": 1,
   "id": "d1cbe1b1",
   "metadata": {},
   "outputs": [],
   "source": [
    "import lib.NameNode as nn"
   ]
  },
  {
   "cell_type": "code",
   "execution_count": 2,
   "id": "2e72191d",
   "metadata": {},
   "outputs": [],
   "source": [
    "config = {\n",
    "    \"fs_name\":\"My_dfs\",\n",
    "    \"nn_dir\" :\"p_namenode\",\n",
    "    \"dn_dir\" : \"DataNodes\",\n",
    "    \"rep_factor\" : 3,\n",
    "    \"num_datanodes\" : 5,\n",
    "    \"block_size\" : 10,\n",
    "    \"dn_size\" : 10,\n",
    "    \"dn_log_path\": \"DataNodes\\\\logs\",\n",
    "    \"nn_log_path\": \"p_namenode\\\\logs.txt\",\n",
    "    \"sync_period\": 180,\n",
    "    \"nn_checkpoints\": \"p_namenode\\\\nn_checkpoints\"\n",
    "}"
   ]
  },
  {
   "cell_type": "code",
   "execution_count": 3,
   "id": "4a1afd05",
   "metadata": {},
   "outputs": [],
   "source": [
    "nnNew = nn.NameNode(config)"
   ]
  },
  {
   "cell_type": "code",
   "execution_count": 4,
   "id": "aa2cf8df",
   "metadata": {},
   "outputs": [
    {
     "data": {
      "text/plain": [
       "['Input', 'Output']"
      ]
     },
     "execution_count": 4,
     "metadata": {},
     "output_type": "execute_result"
    }
   ],
   "source": [
    "nnNew.ls('My_dfs')"
   ]
  },
  {
   "cell_type": "code",
   "execution_count": 5,
   "id": "d370da96",
   "metadata": {},
   "outputs": [
    {
     "data": {
      "text/plain": [
       "['part-0000.txt']"
      ]
     },
     "execution_count": 5,
     "metadata": {},
     "output_type": "execute_result"
    }
   ],
   "source": [
    "nnNew.ls('My_dfs/Output')"
   ]
  },
  {
   "cell_type": "code",
   "execution_count": 6,
   "id": "668ab66a",
   "metadata": {},
   "outputs": [
    {
     "data": {
      "text/plain": [
       "['input.txt']"
      ]
     },
     "execution_count": 6,
     "metadata": {},
     "output_type": "execute_result"
    }
   ],
   "source": [
    "nnNew.ls('My_dfs/Input')"
   ]
  },
  {
   "cell_type": "code",
   "execution_count": 7,
   "id": "ff7cb236",
   "metadata": {},
   "outputs": [],
   "source": [
    "nnNew.rm('My_dfs/Output/part-0000.txt')"
   ]
  },
  {
   "cell_type": "code",
   "execution_count": 8,
   "id": "84970ec9",
   "metadata": {},
   "outputs": [
    {
     "data": {
      "text/plain": [
       "[]"
      ]
     },
     "execution_count": 8,
     "metadata": {},
     "output_type": "execute_result"
    }
   ],
   "source": [
    "nnNew.ls('My_dfs/Output')"
   ]
  },
  {
   "cell_type": "code",
   "execution_count": null,
   "id": "663bc646",
   "metadata": {},
   "outputs": [],
   "source": []
  }
 ],
 "metadata": {
  "kernelspec": {
   "display_name": "Python 3",
   "language": "python",
   "name": "python3"
  },
  "language_info": {
   "codemirror_mode": {
    "name": "ipython",
    "version": 3
   },
   "file_extension": ".py",
   "mimetype": "text/x-python",
   "name": "python",
   "nbconvert_exporter": "python",
   "pygments_lexer": "ipython3",
   "version": "3.8.8"
  }
 },
 "nbformat": 4,
 "nbformat_minor": 5
}
