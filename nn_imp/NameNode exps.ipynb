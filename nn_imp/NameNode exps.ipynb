{
 "cells": [
  {
   "cell_type": "code",
   "execution_count": 1,
   "id": "56a5dc92",
   "metadata": {},
   "outputs": [],
   "source": [
    "import NameNode as nn\n",
    "import os"
   ]
  },
  {
   "cell_type": "code",
   "execution_count": 17,
   "id": "c60f0659",
   "metadata": {},
   "outputs": [],
   "source": [
    "nn_config = {\n",
    "    'fs_name':'My_dfs',\n",
    "    'nn_dir' :'p_namenode',\n",
    "    'dn_dir' : 'DataNodes',\n",
    "    'rep_factor' : 3,\n",
    "    'num_datanodes' : 5,\n",
    "    'block_size' : 10,\n",
    "    'dn_size' : 10,\n",
    "    'dn_log_path': 'DataNodes\\logs',\n",
    "    'nn_log_path': 'p_namenode\\logs.txt',\n",
    "    'sync_period': 180,\n",
    "    'nn_checkpoints': 'p_namenode\\\\nn_checkpoints'\n",
    "}"
   ]
  },
  {
   "cell_type": "code",
   "execution_count": 18,
   "id": "eea0add1",
   "metadata": {},
   "outputs": [
    {
     "name": "stdout",
     "output_type": "stream",
     "text": [
      "Expected arguments for config for creation or loading of name node not met\n"
     ]
    }
   ],
   "source": [
    "nnNew = nn.NameNode(nn_config,isNew = True) # creating namenode"
   ]
  },
  {
   "cell_type": "code",
   "execution_count": 4,
   "id": "2ec32769",
   "metadata": {},
   "outputs": [],
   "source": [
    "nnNew.mkdir('My_dfs/new_dir')"
   ]
  },
  {
   "cell_type": "code",
   "execution_count": 5,
   "id": "a63303f0",
   "metadata": {},
   "outputs": [
    {
     "data": {
      "text/plain": [
       "['new_dir']"
      ]
     },
     "execution_count": 5,
     "metadata": {},
     "output_type": "execute_result"
    }
   ],
   "source": [
    "nnNew.ls('My_dfs')"
   ]
  },
  {
   "cell_type": "code",
   "execution_count": 6,
   "id": "ced0cbbd",
   "metadata": {},
   "outputs": [
    {
     "data": {
      "text/plain": [
       "[]"
      ]
     },
     "execution_count": 6,
     "metadata": {},
     "output_type": "execute_result"
    }
   ],
   "source": [
    "nnNew.ls('My_dfs/new_dir')"
   ]
  },
  {
   "cell_type": "code",
   "execution_count": 8,
   "id": "50a53d03",
   "metadata": {},
   "outputs": [],
   "source": [
    "nnNew.put('hello.txt','My_dfs/new_dir/hi.txt')"
   ]
  },
  {
   "cell_type": "code",
   "execution_count": 9,
   "id": "00b8da9f",
   "metadata": {},
   "outputs": [
    {
     "data": {
      "text/plain": [
       "['hi.txt']"
      ]
     },
     "execution_count": 9,
     "metadata": {},
     "output_type": "execute_result"
    }
   ],
   "source": [
    "nnNew.ls('My_dfs/new_dir')"
   ]
  },
  {
   "cell_type": "code",
   "execution_count": 10,
   "id": "122b1ed0",
   "metadata": {},
   "outputs": [],
   "source": [
    "nnNew.cat('My_dfs/new_dir/hi.txt','cool.txt')"
   ]
  },
  {
   "cell_type": "code",
   "execution_count": 11,
   "id": "22164001",
   "metadata": {},
   "outputs": [
    {
     "name": "stdout",
     "output_type": "stream",
     "text": [
      "Poor path\n"
     ]
    }
   ],
   "source": [
    "nnNew.rm('My_dfs/new_dir1')"
   ]
  },
  {
   "cell_type": "code",
   "execution_count": 12,
   "id": "cfb25b20",
   "metadata": {},
   "outputs": [
    {
     "name": "stdout",
     "output_type": "stream",
     "text": [
      "Directory is not empty. \n",
      "Hint: Use cascade option\n"
     ]
    }
   ],
   "source": [
    "nnNew.rm('My_dfs/new_dir')"
   ]
  },
  {
   "cell_type": "code",
   "execution_count": 14,
   "id": "28adb0a9",
   "metadata": {},
   "outputs": [],
   "source": [
    "nnNew.rm('My_dfs/new_dir',cascade = True)"
   ]
  },
  {
   "cell_type": "code",
   "execution_count": 15,
   "id": "691481a3",
   "metadata": {},
   "outputs": [
    {
     "name": "stdout",
     "output_type": "stream",
     "text": [
      "Directory dosen't exist in this location\n"
     ]
    }
   ],
   "source": [
    "nnNew.ls('My_dfs/new_dir')"
   ]
  },
  {
   "cell_type": "code",
   "execution_count": 16,
   "id": "0623ec3c",
   "metadata": {},
   "outputs": [
    {
     "data": {
      "text/plain": [
       "[]"
      ]
     },
     "execution_count": 16,
     "metadata": {},
     "output_type": "execute_result"
    }
   ],
   "source": [
    "nnNew.ls('My_dfs')"
   ]
  },
  {
   "cell_type": "markdown",
   "id": "a296e2f1",
   "metadata": {},
   "source": [
    "## Creating and loading namenode"
   ]
  },
  {
   "cell_type": "code",
   "execution_count": 3,
   "id": "eddc23fa",
   "metadata": {},
   "outputs": [
    {
     "name": "stdout",
     "output_type": "stream",
     "text": [
      "Expected arguments for config for creation or loading of name node not met\n"
     ]
    }
   ],
   "source": [
    "nnNew = nn.NameNode(nn_config,isNew = True) # creating namenode"
   ]
  },
  {
   "cell_type": "code",
   "execution_count": 4,
   "id": "bf01d492",
   "metadata": {},
   "outputs": [],
   "source": [
    "nnNew = nn.NameNode(nn_config,isNew = False) # loading the created namenode"
   ]
  },
  {
   "cell_type": "markdown",
   "id": "21714014",
   "metadata": {},
   "source": [
    "## Storing a file in DFS"
   ]
  },
  {
   "cell_type": "code",
   "execution_count": 5,
   "id": "539e4aea",
   "metadata": {},
   "outputs": [],
   "source": [
    "file_path = 'hello.txt'\n",
    "dfs_file_path = 'My_dfs/hello.txt'\n",
    "nnNew.put(file_path,dfs_file_path)"
   ]
  },
  {
   "cell_type": "markdown",
   "id": "2dac91a2",
   "metadata": {},
   "source": [
    "## Fetching a file from DFS"
   ]
  },
  {
   "cell_type": "code",
   "execution_count": 6,
   "id": "8692706b",
   "metadata": {},
   "outputs": [],
   "source": [
    "file_path = 'hi.txt'\n",
    "dfs_file_path = 'My_dfs/hello.txt'\n",
    "nnNew.cat(dfs_file_path,file_path)"
   ]
  },
  {
   "cell_type": "markdown",
   "id": "1c129af5",
   "metadata": {},
   "source": [
    "## ls a directory"
   ]
  },
  {
   "cell_type": "code",
   "execution_count": 7,
   "id": "addd07f9",
   "metadata": {},
   "outputs": [
    {
     "data": {
      "text/plain": [
       "['hello.txt']"
      ]
     },
     "execution_count": 7,
     "metadata": {},
     "output_type": "execute_result"
    }
   ],
   "source": [
    "dfs_dir = 'My_dfs'\n",
    "nnNew.ls(dfs_dir)"
   ]
  },
  {
   "cell_type": "code",
   "execution_count": 8,
   "id": "8740155a",
   "metadata": {},
   "outputs": [
    {
     "name": "stdout",
     "output_type": "stream",
     "text": [
      "Directory dosen't exist in this location\n"
     ]
    }
   ],
   "source": [
    "dfs_dir = 'My_dfs/hello.txt'\n",
    "nnNew.ls(dfs_dir)"
   ]
  },
  {
   "cell_type": "markdown",
   "id": "5149ade3",
   "metadata": {},
   "source": [
    "## rm fuctionality"
   ]
  },
  {
   "cell_type": "code",
   "execution_count": 21,
   "id": "b4f610ca",
   "metadata": {},
   "outputs": [],
   "source": [
    "nnNew.rm('My_dfs')"
   ]
  },
  {
   "cell_type": "code",
   "execution_count": 10,
   "id": "3cb79b9e",
   "metadata": {},
   "outputs": [],
   "source": [
    "nnNew.rm('My_dfs/hello.txt')"
   ]
  },
  {
   "cell_type": "code",
   "execution_count": 11,
   "id": "7d1bdac1",
   "metadata": {},
   "outputs": [
    {
     "data": {
      "text/plain": [
       "[]"
      ]
     },
     "execution_count": 11,
     "metadata": {},
     "output_type": "execute_result"
    }
   ],
   "source": [
    "dfs_dir = 'My_dfs'\n",
    "nnNew.ls(dfs_dir)"
   ]
  },
  {
   "cell_type": "code",
   "execution_count": 12,
   "id": "979b72d2",
   "metadata": {},
   "outputs": [],
   "source": [
    "nnNew.rm('My_dfs',cascade = True)"
   ]
  },
  {
   "cell_type": "markdown",
   "id": "e88d01a1",
   "metadata": {},
   "source": [
    "## mkdir functionality"
   ]
  },
  {
   "cell_type": "code",
   "execution_count": 13,
   "id": "f6a6a238",
   "metadata": {},
   "outputs": [],
   "source": [
    "nnNew.mkdir('My_dfs/chld1') # creating new directory"
   ]
  },
  {
   "cell_type": "code",
   "execution_count": 14,
   "id": "ab0a074c",
   "metadata": {},
   "outputs": [
    {
     "data": {
      "text/plain": [
       "['chld1']"
      ]
     },
     "execution_count": 14,
     "metadata": {},
     "output_type": "execute_result"
    }
   ],
   "source": [
    "dfs_dir = 'My_dfs'\n",
    "nnNew.ls(dfs_dir) #ls My_dfs"
   ]
  },
  {
   "cell_type": "code",
   "execution_count": 15,
   "id": "407b1bbd",
   "metadata": {},
   "outputs": [],
   "source": [
    "file_path = 'hello.txt'\n",
    "dfs_file_path = 'My_dfs/chld1/hello.txt'\n",
    "nnNew.put(file_path,dfs_file_path) "
   ]
  },
  {
   "cell_type": "code",
   "execution_count": 16,
   "id": "e0973aab",
   "metadata": {},
   "outputs": [
    {
     "data": {
      "text/plain": [
       "['hello.txt']"
      ]
     },
     "execution_count": 16,
     "metadata": {},
     "output_type": "execute_result"
    }
   ],
   "source": [
    "nnNew.ls('My_dfs/chld1')"
   ]
  },
  {
   "cell_type": "code",
   "execution_count": 17,
   "id": "884e3e2b",
   "metadata": {},
   "outputs": [
    {
     "name": "stdout",
     "output_type": "stream",
     "text": [
      "Directory is not empty. \n",
      "Hint: Use cascade option\n"
     ]
    }
   ],
   "source": [
    "nnNew.rm('My_dfs/chld1')"
   ]
  },
  {
   "cell_type": "code",
   "execution_count": 18,
   "id": "132e1c60",
   "metadata": {},
   "outputs": [],
   "source": [
    "nnNew.rm('My_dfs/chld1',cascade = True)"
   ]
  },
  {
   "cell_type": "code",
   "execution_count": 19,
   "id": "7dd901c1",
   "metadata": {},
   "outputs": [
    {
     "name": "stdout",
     "output_type": "stream",
     "text": [
      "Directory dosen't exist in this location\n"
     ]
    }
   ],
   "source": [
    "nnNew.ls('My_dfs/chld1')"
   ]
  },
  {
   "cell_type": "code",
   "execution_count": 20,
   "id": "468b1054",
   "metadata": {},
   "outputs": [
    {
     "data": {
      "text/plain": [
       "[]"
      ]
     },
     "execution_count": 20,
     "metadata": {},
     "output_type": "execute_result"
    }
   ],
   "source": [
    "nnNew.ls('My_dfs')"
   ]
  },
  {
   "cell_type": "code",
   "execution_count": null,
   "id": "5ae03c90",
   "metadata": {},
   "outputs": [],
   "source": []
  }
 ],
 "metadata": {
  "kernelspec": {
   "display_name": "Python 3",
   "language": "python",
   "name": "python3"
  },
  "language_info": {
   "codemirror_mode": {
    "name": "ipython",
    "version": 3
   },
   "file_extension": ".py",
   "mimetype": "text/x-python",
   "name": "python",
   "nbconvert_exporter": "python",
   "pygments_lexer": "ipython3",
   "version": "3.8.8"
  }
 },
 "nbformat": 4,
 "nbformat_minor": 5
}
